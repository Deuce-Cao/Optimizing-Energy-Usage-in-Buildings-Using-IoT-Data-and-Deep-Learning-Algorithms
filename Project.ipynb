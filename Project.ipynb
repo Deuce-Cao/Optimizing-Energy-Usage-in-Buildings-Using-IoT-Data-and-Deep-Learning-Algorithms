{
 "cells": [
  {
   "cell_type": "markdown",
   "id": "a8b9c3b6",
   "metadata": {},
   "source": [
    "# SEP 769 - Deep Learning Project - Optimizing Energy Usage in Buildings Using IoT Data and Deep Learning Algorithms\n",
    "> Hongqing Cao 400053625  \n",
    "Sushant Shailesh Panchal 400614293  \n",
    "Yanyi He 400651032  \n",
    "Yash Parab 400611922"
   ]
  },
  {
   "cell_type": "markdown",
   "id": "afbd89a1",
   "metadata": {},
   "source": [
    "## Introduction\n",
    "This project aims to develop a machine learning-based system to optimize energy usage in buildings using data from IoT sensors. The goal is to reduce energy consumption and costs while maintaining occupant comfort and health. The project involves preprocessing data from IoT sensors, developing a deep learning model to optimize energy usage, and testing the model on new data to evaluate its effectiveness.\n",
    "\n",
    "The dataset [**Individual Household Electric Power Consumption dataset**](https://archive.ics.uci.edu/dataset/235) is retrived from UCI Machine Learning Repository, which contains measurements of electric power consumption in one household with a one-minute sampling rate over a period of almost 4 years. Different electrical quantities and some sub-metering values are available.\n",
    "\n",
    "### Objectives\n",
    "- Compare two different models over a subset of dataset, find the better performed model. \n",
    "- Tune, train, and evaluate the selected model, use this model to forecast future power consumption. \n",
    "- Visualize the predicted vs actual load, identify peak/vally power load time frames to suggest grid operation. \n",
    "\n",
    "\n",
    "### Dataset\n",
    "- **Source**: UCI Machine Learning Repository (https://archive.ics.uci.edu/dataset/235).\n",
    "- **Information**: This archive contains 2075259 measurements gathered in a house located in Sceaux (7km of Paris, France) between December 2006 and November 2010 (47 months). \n",
    "\n",
    "- **Features**: \n",
    "    - `date: dd/mm/yyyy`\n",
    "    - `time: hh:mm:ss`\n",
    "    - `global_active_power: float` Total household active power usage in kilowatts (kW)\n",
    "    - `reactive_power: float` Power not used for work, in KW\n",
    "    - `voltage: float` Voltage across the circuit, in V\n",
    "    - `global_intensity: float` Current drawn, in A\n",
    "    - `sub_metering_1: float` Energy drawn for kitchen, in Wh\n",
    "    - `sub_metering_2: float` Energy drawn for laundry, in Wh\n",
    "    - `sub_metering_3: float` Energy drawn for water heater and AC, in Wh\n",
    "\n",
    "- **Note**:  \n",
    "`global_active_power * 1000 / 60 - sub_metering_1 - sub_metering_2 - sub_metering_3`  \n",
    "represents the active energy consumed every minute (in watt hour) in the household by electrical equipment not measured in sub-meterings 1, 2 and 3.\n",
    "\n",
    "- **Missing Data**: The dataset contains some missing values in the measurements (nearly 1,25% of the rows). All calendar timestamps are present in the dataset but for some timestamps, the measurement values are missing (willed with `?`). \n",
    "\n",
    "### References\n",
    "- Marino et al. (2016), *Building Energy Load Forecasting using Deep Neural Networks*. \n",
    "- Bonetto & Rossi (2017), *Machine Learning Approaches to Energy Consumption Forecasting in Households*. \n",
    "- Gasparin et al. (2019), *Deep Learning for Time Series Forecasting: The Electric Load Case*. \n",
    "\n",
    "### Essential Notes\n",
    "- **Hardware**: The code in notebook in designed to best perform with CUDA GPUs, targeting RTX 4070. \n",
    "\n",
    "- **Environment**: Use `Python 3.11.7`, `NVIDIA-SMI 575.64.04`, `Driver Version: 577.00`, `CUDA Version: 12.9`. "
   ]
  },
  {
   "cell_type": "markdown",
   "id": "038c32f0",
   "metadata": {},
   "source": [
    "## 0. Environment Setup\n",
    "### Libaries Imported\n",
    "`numpy 2.1.3`  \n",
    "`matplotlib 3.10.3`  \n",
    "`pandas 2.3.1`  \n",
    "`tensorflow 2.19.0`  \n",
    "`scikit-learn 1.7.1`  \n",
    "`keras 3.10.0`  \n",
    "`tensorboard 2.19.0`  \n",
    "`seaborn 0.13.2`  \n",
    "\n",
    "### GPU Config\n",
    "set `set_memory_growth`, `mixed_precision`\n",
    "\n",
    "### Utility Functions\n",
    "``"
   ]
  },
  {
   "cell_type": "code",
   "execution_count": 195,
   "id": "275f73ec",
   "metadata": {},
   "outputs": [
    {
     "name": "stdout",
     "output_type": "stream",
     "text": [
      "The tensorboard extension is already loaded. To reload it, use:\n",
      "  %reload_ext tensorboard\n"
     ]
    }
   ],
   "source": [
    "### Libaries Imported\n",
    "from os import path\n",
    "import numpy as np\n",
    "import matplotlib.pyplot as plt\n",
    "import pandas as pd\n",
    "import tensorflow as tf\n",
    "import seaborn as sns\n",
    "\n",
    "from sklearn.preprocessing import StandardScaler\n",
    "\n",
    "from tensorflow import keras\n",
    "from keras import Sequential, layers, Model\n",
    "from keras import backend as K\n",
    "from keras.optimizers import Adam\n",
    "from tensorboard.plugins.hparams import api as hp\n",
    "from keras.callbacks import EarlyStopping, ModelCheckpoint\n",
    "from keras import mixed_precision\n",
    "from keras.models import load_model\n",
    "from tensorflow.keras.preprocessing.image import ImageDataGenerator\n",
    "import gc\n",
    "\n",
    "%load_ext tensorboard\n",
    "\n",
    "np.random.seed(42)"
   ]
  },
  {
   "cell_type": "code",
   "execution_count": 91,
   "id": "e08fe581",
   "metadata": {},
   "outputs": [],
   "source": [
    "### GPU Config\n",
    "# use set_memory_growth to aallocate VRAM\n",
    "\n",
    "gpus = tf.config.list_physical_devices('GPU')\n",
    "\n",
    "if gpus:\n",
    "    for gpu in gpus:\n",
    "        tf.config.experimental.set_memory_growth(gpu, True)\n",
    "\n",
    "# use mixed_precision to accelrate GPU speed\n",
    "\n",
    "mixed_precision.set_global_policy('mixed_float16')"
   ]
  },
  {
   "cell_type": "code",
   "execution_count": 92,
   "id": "8dc7d859",
   "metadata": {},
   "outputs": [],
   "source": [
    "### Global Variables\n",
    "DATA_DIR = \"data\"\n",
    "RAW_DIR = DATA_DIR+\"/raw\"\n",
    "TRAIN_DIR = DATA_DIR+\"/train\"\n",
    "TEST_DIR = DATA_DIR+\"/test\"\n",
    "\n",
    "MODEL_DIR = \"model\"\n",
    "\n",
    "LOG_DIR = \"log\"\n",
    "HPARAM_DIR = LOG_DIR+\"/hparam\""
   ]
  },
  {
   "cell_type": "code",
   "execution_count": 160,
   "id": "8caa19e5",
   "metadata": {},
   "outputs": [],
   "source": [
    "### Utility functions\n",
    "\n",
    "def delete_model(modelname, historyname):\n",
    "    '''function for delete model, history and free vram'''\n",
    "    global_vars = globals()\n",
    "    if modelname in globals():\n",
    "        del global_vars[modelname]\n",
    "    if historyname in globals():\n",
    "        del global_vars[historyname]\n",
    "    gc.collect()\n",
    "    K.clear_session()\n",
    "\n",
    "def inspect_data(df, name):\n",
    "    '''print summary data of a given dataframe, with\n",
    "    count\n",
    "    mean\n",
    "    std\n",
    "    min\n",
    "    25%\n",
    "    50%\n",
    "    75%\n",
    "    max\n",
    "    dtype\n",
    "    '''\n",
    "    print(f\"\\n{name} summary:\")\n",
    "    print(df.describe())\n",
    "    print(df.isnull().sum())\n",
    "\n",
    "def plot_time_series(df, column, start=None, end=None, title=None):\n",
    "    '''plot the raw time series data from time to end with corresponding column\n",
    "\n",
    "    column =  global_active_power, sub_metering_other, sub_metering_1/2/3'''\n",
    "    df_subset = df[start:end] if start or end else df\n",
    "    df_subset[column].plot(figsize=(12, 4), title=title or column)\n",
    "\n",
    "# def plot_hourly_avg(df, column):\n",
    "#     hourly_avg = df.groupby(df.index.hour)[column].mean()\n",
    "#     hourly_avg.plot(kind=\"bar\", figsize=(10, 4), title=f\"Average {column} by Hour\")\n",
    "\n",
    "# def plot_dayofweek_avg(df, column):\n",
    "#     dow_avg = df.groupby(df.index.dayofweek)[column].mean()\n",
    "#     dow_avg.plot(kind=\"bar\", figsize=(8, 4), title=f\"Average {column} by Day of Week\")\n",
    "\n",
    "# def plot_distribution(df, column):\n",
    "#     df[column].hist(bins=50, figsize=(6, 4), title=f\"Distribution of {column}\")\n",
    "\n",
    "# def plot_correlation_heatmap(df):\n",
    "#     plt.figure(figsize=(10, 6))\n",
    "#     sns.heatmap(df.corr(), annot=True, cmap=\"coolwarm\")\n",
    "#     plt.title(\"Feature Correlation Heatmap\")\n",
    "\n",
    "# def plot_lagged_sample(X, y, feature_idx=0, sample_idx=0):\n",
    "#     '''Visualize what an LSTM/S2S input-output pair looks like'''\n",
    "#     plt.plot(X[sample_idx, :, feature_idx], label=\"Input sequence\")\n",
    "#     plt.axhline(y[sample_idx], color='r', linestyle='--', label=\"Target\")\n",
    "#     plt.legend()\n",
    "#     plt.title(\"Lagged input and target\")\n",
    "#     plt.show()\n",
    "\n",
    "def plot_loss(history, maxy=None):\n",
    "    '''Loss during training'''\n",
    "    loss = history.history['loss']\n",
    "    test_loss = history.history['val_loss']\n",
    "    epochs = range(len(loss))\n",
    "    plt.plot(epochs, loss)\n",
    "    plt.plot(epochs, test_loss)\n",
    "    if maxy:\n",
    "        plt.ylim(0, maxy)\n",
    "    plt.title('Loss')\n",
    "    plt.grid()\n",
    "    plt.figure()\n",
    "\n",
    "def plot_forecast(y_true, y_pred, title=\"Forecast vs Actual\"):\n",
    "    '''plot forecast vs actual lines'''\n",
    "    plt.figure(figsize=(12, 4))\n",
    "    plt.plot(y_true, label=\"Actual\")\n",
    "    plt.plot(y_pred, label=\"Forecast\")\n",
    "    plt.title(title)\n",
    "    plt.legend()\n",
    "    plt.show()\n"
   ]
  },
  {
   "cell_type": "markdown",
   "id": "ef731360",
   "metadata": {},
   "source": [
    "## 1. Data Preprocessing\n",
    "\n",
    "### Load Data\n",
    " - Load raw dataset\n",
    " - Convert data type\n",
    "\n",
    "### Resample Data\n",
    "Resample data to 1-hr\n",
    "\n",
    "### Handle Missing Data\n",
    "Reconstruct misssing data with linear interpolation\n",
    "\n",
    "### Save Raw Data\n",
    "Save to `data/raw`\n",
    "\n",
    "### Feature Engineering\n",
    " - `season_spring: binary` one-hot coded season transformed from `date`\n",
    " - `season_summer: binary` one-hot coded season transformed from `date`\n",
    " - `season_autumn: binary` one-hot coded season transformed from `date`\n",
    " - `season_winter: binary` one-hot coded season transformed from `date`\n",
    " - `day_of_week: int` categorical in `range(7)`, 0 Sunday, 1 Monday, 6 Saturday\n",
    " - `hour_sin, hour_cos: float` hour in transfromed from `time` in cyclical encoding, range [-1, 1]\n",
    " - `global_active_power: float` target variable, \n",
    " - `sub_metering_other: float` calculated by `global_active_power * 1000 / 60 - sub_metering_1 - sub_metering_2 - sub_metering_3`, \n",
    " - `reactive_power: float` drop\n",
    " - `voltage: float` drop\n",
    " - `global_intensity: float` drop\n",
    " - `sub_metering_1: float` existing raw feature\n",
    " - `sub_metering_2: float` existing raw feature\n",
    " - `sub_metering_3: float` existing raw feature\n",
    "\n",
    "### Save Feature Engineered Data\n",
    "Save to `data/raw`\n",
    "\n",
    "### Create Subsets (distinct)\n",
    " - `model_selection`: 3 month (~2100 samples)\n",
    " - `hparam_tuning`: 3 month (~2100 samples)\n",
    " - `train`: 24 months (~17000 samples)\n",
    " - `test`: 3 months (~2100 samples)\n",
    " - `test_1`: 3 months (~2100 samples) forecast\n",
    " - `test_2`: 3 months (~2100 samples) forecast\n",
    "\n",
    "### Save Subset Data\n",
    " - Store model selection, tuning, training data in `data/train` \n",
    " - Store  testing data in `data/test` \n",
    "\n",
    "### Normalization and Standarization\n",
    "Use `StandardScaler` for `global_active_power`, `sub_metering_other`, `sub_metering_1`, `sub_metering_2`, `sub_metering_3` \n",
    "\n",
    "### Save Normalized Data\n",
    "Store model selection, tuning, training data in `data/train` \n",
    "\n",
    "### Lagging Data\n",
    "Lag data by 1 weel = 168 hrs = 168 samples. \n",
    "Specify target variable \n",
    "\n",
    "### Save Final Processed Data\n",
    " - Store raw data in `/data/raw` \n",
    " - Store model selection, tuning, training data in `data/train` \n",
    " - Store  testing data in `data/test` \n",
    " - Store models in `model` \n",
    " - Store hyperparameter tuning log in `log/hparam`. "
   ]
  },
  {
   "cell_type": "code",
   "execution_count": 138,
   "id": "4f88392b",
   "metadata": {},
   "outputs": [],
   "source": [
    "### Load Data\n",
    "# Load raw data\n",
    "chunks = []\n",
    "reader = pd.read_csv(\n",
    "    RAW_DIR+\"/household_power_consumption.txt\", \n",
    "    sep=\";\", \n",
    "    na_values='?',\n",
    "    low_memory=False,\n",
    "    chunksize=500_000\n",
    "    )\n",
    "\n",
    "for chunk in reader:\n",
    "    chunks.append(chunk)\n",
    "\n",
    "df = pd.concat(chunks)\n",
    "\n",
    "df.columns = df.columns.str.lower()\n",
    "df['datetime_str'] = df['date'] + ' ' + df['time']\n",
    "\n",
    "df['datetime'] = (pd.to_datetime(df['datetime_str'], dayfirst=True))\n",
    "df = df.drop(columns=['date', 'time', 'datetime_str'])\n",
    "df.set_index(\"datetime\", inplace=True)\n",
    "df.sort_index(inplace=True)\n",
    "\n",
    "# Convert from string/object to float\n",
    "df = df.astype(np.float32)"
   ]
  },
  {
   "cell_type": "code",
   "execution_count": 140,
   "id": "f59e5e11",
   "metadata": {},
   "outputs": [
    {
     "name": "stdout",
     "output_type": "stream",
     "text": [
      "\n",
      "raw data summary:\n",
      "       global_active_power  global_reactive_power       voltage  \\\n",
      "count         2.049280e+06           2.049280e+06  2.049280e+06   \n",
      "mean          1.091615e+00           1.237144e-01  2.408399e+02   \n",
      "std           1.057294e+00           1.127220e-01  3.239987e+00   \n",
      "min           7.600000e-02           0.000000e+00  2.232000e+02   \n",
      "25%           3.080000e-01           4.800000e-02  2.389900e+02   \n",
      "50%           6.020000e-01           1.000000e-01  2.410100e+02   \n",
      "75%           1.528000e+00           1.940000e-01  2.428900e+02   \n",
      "max           1.112200e+01           1.390000e+00  2.541500e+02   \n",
      "\n",
      "       global_intensity  sub_metering_1  sub_metering_2  sub_metering_3  \n",
      "count      2.049280e+06    2.049280e+06    2.049280e+06    2.049280e+06  \n",
      "mean       4.627760e+00    1.121923e+00    1.298520e+00    6.458447e+00  \n",
      "std        4.444396e+00    6.153031e+00    5.822026e+00    8.437154e+00  \n",
      "min        2.000000e-01    0.000000e+00    0.000000e+00    0.000000e+00  \n",
      "25%        1.400000e+00    0.000000e+00    0.000000e+00    0.000000e+00  \n",
      "50%        2.600000e+00    0.000000e+00    0.000000e+00    1.000000e+00  \n",
      "75%        6.400000e+00    0.000000e+00    1.000000e+00    1.700000e+01  \n",
      "max        4.840000e+01    8.800000e+01    8.000000e+01    3.100000e+01  \n",
      "global_active_power      25979\n",
      "global_reactive_power    25979\n",
      "voltage                  25979\n",
      "global_intensity         25979\n",
      "sub_metering_1           25979\n",
      "sub_metering_2           25979\n",
      "sub_metering_3           25979\n",
      "dtype: int64\n"
     ]
    }
   ],
   "source": [
    "inspect_data(df, 'raw data')"
   ]
  },
  {
   "cell_type": "code",
   "execution_count": 95,
   "id": "15ff7033",
   "metadata": {},
   "outputs": [],
   "source": [
    "### Resample Data\n",
    "# Resample to hourly mean\n",
    "df_hourly = df.resample('h').mean()"
   ]
  },
  {
   "cell_type": "code",
   "execution_count": 96,
   "id": "d737b4e6",
   "metadata": {},
   "outputs": [],
   "source": [
    "### Handle Missing Data\n",
    "df_hourly_reco = df_hourly.interpolate(method='linear', limit_direction='both')\n",
    "df_hourly_reco.dropna(inplace=True)"
   ]
  },
  {
   "cell_type": "code",
   "execution_count": 141,
   "id": "8d4bc3e7",
   "metadata": {},
   "outputs": [
    {
     "name": "stdout",
     "output_type": "stream",
     "text": [
      "\n",
      "reconstructed data summary:\n",
      "       global_active_power  global_reactive_power       voltage  \\\n",
      "count         34589.000000           34589.000000  34589.000000   \n",
      "mean              1.092488               0.123710    240.828400   \n",
      "std               0.895746               0.066998      3.002928   \n",
      "min               0.124000               0.000000    225.834503   \n",
      "25%               0.343433               0.078067    239.174835   \n",
      "50%               0.806833               0.106833    240.974670   \n",
      "75%               1.578233               0.149367    242.687668   \n",
      "max               6.560533               0.774333    251.902008   \n",
      "\n",
      "       global_intensity  sub_metering_1  sub_metering_2  sub_metering_3  \\\n",
      "count      34589.000000    34589.000000    34589.000000    34589.000000   \n",
      "mean           4.631340        1.123029        1.291784        6.445877   \n",
      "std            3.749644        3.534986        4.170525        7.332015   \n",
      "min            0.503333        0.000000        0.000000        0.000000   \n",
      "25%            1.520000        0.000000        0.000000        0.650000   \n",
      "50%            3.436667        0.000000        0.333333        1.666667   \n",
      "75%            6.600000        0.000000        0.650000       14.066667   \n",
      "max           28.383333       48.366665       46.433334       21.549999   \n",
      "\n",
      "              month        season   day_of_week          hour      hour_sin  \\\n",
      "count  34589.000000  34589.000000  34589.000000  34589.000000  34589.000000   \n",
      "mean       6.450548      1.515222      2.998410     11.501084     -0.000130   \n",
      "std        3.415879      1.108350      1.999414      6.922394      0.707150   \n",
      "min        1.000000      0.000000      0.000000      0.000000     -1.000000   \n",
      "25%        3.000000      1.000000      1.000000      6.000000     -0.707107   \n",
      "50%        6.000000      2.000000      3.000000     12.000000      0.000000   \n",
      "75%        9.000000      2.000000      5.000000     18.000000      0.707107   \n",
      "max       12.000000      3.000000      6.000000     23.000000      1.000000   \n",
      "\n",
      "           hour_cos  sub_metering_other  \n",
      "count  3.458900e+04        34589.000000  \n",
      "mean   3.489857e-05            9.347441  \n",
      "std    7.070840e-01            8.251317  \n",
      "min   -1.000000e+00            1.379445  \n",
      "25%   -7.071068e-01            4.367222  \n",
      "50%    6.123234e-17            5.809445  \n",
      "75%    7.071068e-01           11.206667  \n",
      "max    1.000000e+00           64.837227  \n",
      "global_active_power      0\n",
      "global_reactive_power    0\n",
      "voltage                  0\n",
      "global_intensity         0\n",
      "sub_metering_1           0\n",
      "sub_metering_2           0\n",
      "sub_metering_3           0\n",
      "month                    0\n",
      "season                   0\n",
      "season_autumn            0\n",
      "season_spring            0\n",
      "season_summer            0\n",
      "season_winter            0\n",
      "day_of_week              0\n",
      "hour                     0\n",
      "hour_sin                 0\n",
      "hour_cos                 0\n",
      "sub_metering_other       0\n",
      "dtype: int64\n"
     ]
    }
   ],
   "source": [
    "inspect_data(df_hourly_reco, 'reconstructed data')"
   ]
  },
  {
   "cell_type": "code",
   "execution_count": 97,
   "id": "9eaf5b0f",
   "metadata": {},
   "outputs": [],
   "source": [
    "# Save raw data\n",
    "df_hourly_reco.to_pickle(RAW_DIR+\"/hourly_reco.pkl\")\n"
   ]
  },
  {
   "cell_type": "code",
   "execution_count": 98,
   "id": "53675913",
   "metadata": {},
   "outputs": [],
   "source": [
    "# Load raw data\n",
    "df_hourly_reco = pd.read_pickle(RAW_DIR+\"/hourly_reco.pkl\")"
   ]
  },
  {
   "cell_type": "code",
   "execution_count": 99,
   "id": "c35e3e01",
   "metadata": {},
   "outputs": [],
   "source": [
    "### Feature Engineering\n",
    "df_hourly_reco['month'] = df_hourly_reco.index.month\n",
    "df_hourly_reco['season'] = df_hourly_reco.index.month % 12 // 3 \n",
    "# 1=spring, 2=summer, 3=fall, 0=winter\n",
    "\n",
    "season_map = {0: 'winter', 1: 'spring', 2: 'summer', 3: 'autumn'}\n",
    "df_hourly_reco['season_label'] = df_hourly_reco['season'].map(season_map)\n",
    "\n",
    "df_hourly_reco = pd.get_dummies(df_hourly_reco, columns=['season_label'], prefix='season')\n",
    "\n",
    "dow_mon0 = df_hourly_reco.index.dayofweek # 0=Monday\n",
    "dow_sun0 = (dow_mon0 + 1) % 7 # 0=Sunday\n",
    "df_hourly_reco['day_of_week'] = dow_sun0 # 0=Sunday\n",
    "\n",
    "\n",
    "df_hourly_reco['hour'] = df_hourly_reco.index.hour\n",
    "# For smoother time-of-day signals:\n",
    "df_hourly_reco['hour_sin'] = np.sin(2 * np.pi * df_hourly_reco['hour'] / 24)\n",
    "df_hourly_reco['hour_cos'] = np.cos(2 * np.pi * df_hourly_reco['hour'] / 24)\n",
    "\n",
    "df_hourly_reco['sub_metering_other'] = (\n",
    "    df_hourly_reco['global_active_power'] * 1000 / 60\n",
    "    - df_hourly_reco['sub_metering_1']\n",
    "    - df_hourly_reco['sub_metering_2']\n",
    "    - df_hourly_reco['sub_metering_3']\n",
    ")\n",
    "\n",
    "df_fe = df_hourly_reco.copy()"
   ]
  },
  {
   "cell_type": "code",
   "execution_count": 100,
   "id": "73ed7273",
   "metadata": {},
   "outputs": [],
   "source": [
    "### Feature Engineering Continued\n",
    "drop_cols = ['month', 'season', 'hour', 'voltage', 'global_reactive_power', 'global_intensity']\n",
    "df_fe.drop(columns=drop_cols, inplace=True)"
   ]
  },
  {
   "cell_type": "code",
   "execution_count": 142,
   "id": "197d47a5",
   "metadata": {},
   "outputs": [
    {
     "name": "stdout",
     "output_type": "stream",
     "text": [
      "\n",
      "feature engineered data summary:\n",
      "       global_active_power  sub_metering_1  sub_metering_2  sub_metering_3  \\\n",
      "count         34589.000000    34589.000000    34589.000000    34589.000000   \n",
      "mean              1.092488        1.123029        1.291784        6.445877   \n",
      "std               0.895746        3.534986        4.170525        7.332015   \n",
      "min               0.124000        0.000000        0.000000        0.000000   \n",
      "25%               0.343433        0.000000        0.000000        0.650000   \n",
      "50%               0.806833        0.000000        0.333333        1.666667   \n",
      "75%               1.578233        0.000000        0.650000       14.066667   \n",
      "max               6.560533       48.366665       46.433334       21.549999   \n",
      "\n",
      "        day_of_week      hour_sin      hour_cos  sub_metering_other  \n",
      "count  34589.000000  34589.000000  3.458900e+04        34589.000000  \n",
      "mean       2.998410     -0.000130  3.489857e-05            9.347441  \n",
      "std        1.999414      0.707150  7.070840e-01            8.251317  \n",
      "min        0.000000     -1.000000 -1.000000e+00            1.379445  \n",
      "25%        1.000000     -0.707107 -7.071068e-01            4.367222  \n",
      "50%        3.000000      0.000000  6.123234e-17            5.809445  \n",
      "75%        5.000000      0.707107  7.071068e-01           11.206667  \n",
      "max        6.000000      1.000000  1.000000e+00           64.837227  \n",
      "global_active_power    0\n",
      "sub_metering_1         0\n",
      "sub_metering_2         0\n",
      "sub_metering_3         0\n",
      "season_autumn          0\n",
      "season_spring          0\n",
      "season_summer          0\n",
      "season_winter          0\n",
      "day_of_week            0\n",
      "hour_sin               0\n",
      "hour_cos               0\n",
      "sub_metering_other     0\n",
      "dtype: int64\n"
     ]
    }
   ],
   "source": [
    "inspect_data(df_fe, 'feature engineered data')"
   ]
  },
  {
   "cell_type": "code",
   "execution_count": 101,
   "id": "0c443e30",
   "metadata": {},
   "outputs": [],
   "source": [
    "### Save Feature Engineered Data\n",
    "df_fe.to_pickle(RAW_DIR+\"/feature_engineered.pkl\")\n"
   ]
  },
  {
   "cell_type": "code",
   "execution_count": 143,
   "id": "14174927",
   "metadata": {},
   "outputs": [],
   "source": [
    "### Load Feature Engineered Data\n",
    "df_fe=pd.read_pickle(RAW_DIR+\"/feature_engineered.pkl\")"
   ]
  },
  {
   "cell_type": "code",
   "execution_count": 144,
   "id": "92c10d02",
   "metadata": {},
   "outputs": [],
   "source": [
    "### Create Subsets (distinct)\n",
    "total_len = len(df_fe)\n",
    "\n",
    "# Subset sizes (in number of rows)\n",
    "model_sel_len = 2160     # 3 month\n",
    "tune_len      = 2160     # 3 month\n",
    "train_len     = 17520    # 24 months\n",
    "test_len      = 2160    # 3 months\n",
    "\n",
    "# Sequential slicing\n",
    "model_sel_df = df_fe.iloc[:model_sel_len]\n",
    "\n",
    "tune_df = df_fe.iloc[model_sel_len : model_sel_len + tune_len]\n",
    "\n",
    "train_df = df_fe.iloc[model_sel_len + tune_len : model_sel_len + tune_len + train_len]\n",
    "\n",
    "test_df = df_fe.iloc[model_sel_len + tune_len + train_len : model_sel_len + tune_len + train_len + test_len]\n",
    "\n",
    "test1_start = 27000\n",
    "\n",
    "test1_df = df_fe[test1_start : test1_start + test_len]\n",
    "test2_df = df_fe[test1_start + test_len + test_len : test1_start + test_len + test_len + test_len]\n"
   ]
  },
  {
   "cell_type": "code",
   "execution_count": 145,
   "id": "277f7393",
   "metadata": {},
   "outputs": [],
   "source": [
    "### Save Subsets\n",
    "model_sel_df.to_pickle(TRAIN_DIR+\"/model_selection.pkl\")\n",
    "tune_df.to_pickle(TRAIN_DIR+\"/hparam_tuning.pkl\")\n",
    "train_df.to_pickle(TRAIN_DIR+\"/train.pkl\")\n",
    "test_df.to_pickle(TEST_DIR+\"/test.pkl\")\n",
    "test1_df.to_pickle(TEST_DIR+\"/test1.pkl\")\n",
    "test2_df.to_pickle(TEST_DIR+\"/test2.pkl\")\n"
   ]
  },
  {
   "cell_type": "code",
   "execution_count": 146,
   "id": "1a8eef2e",
   "metadata": {},
   "outputs": [],
   "source": [
    "### Load Subsets\n",
    "model_sel_df = pd.read_pickle(TRAIN_DIR+\"/model_selection.pkl\")\n",
    "tune_df = pd.read_pickle(TRAIN_DIR+\"/hparam_tuning.pkl\")\n",
    "train_df = pd.read_pickle(TRAIN_DIR+\"/train.pkl\")\n",
    "test_df = pd.read_pickle(TEST_DIR+\"/test.pkl\")\n",
    "test1_df = pd.read_pickle(TEST_DIR+\"/test1.pkl\")\n",
    "test2_df = pd.read_pickle(TEST_DIR+\"/test2.pkl\")"
   ]
  },
  {
   "cell_type": "code",
   "execution_count": 149,
   "id": "7fdae180",
   "metadata": {},
   "outputs": [
    {
     "data": {
      "text/plain": [
       "[(2160, 12), (2160, 12), (17520, 12), (2160, 12), (2160, 12), (2160, 12)]"
      ]
     },
     "execution_count": 149,
     "metadata": {},
     "output_type": "execute_result"
    }
   ],
   "source": [
    "[model_sel_df.shape, tune_df.shape, train_df.shape, test_df.shape, test1_df.shape, test2_df.shape]"
   ]
  },
  {
   "cell_type": "code",
   "execution_count": 129,
   "id": "7554dda2",
   "metadata": {},
   "outputs": [],
   "source": [
    "### Normalization and Standarization\n",
    "cols_to_scale = ['global_active_power', 'sub_metering_other', 'sub_metering_1', 'sub_metering_2', 'sub_metering_3']\n",
    "\n",
    "scaler = StandardScaler()\n",
    "scaler.fit(train_df[cols_to_scale])\n",
    "\n",
    "def std_scale(df, scaler, cols_to_scale):\n",
    "    df_scaled = df.copy()\n",
    "    df_scaled[cols_to_scale] = scaler.transform(df[cols_to_scale])\n",
    "    return df_scaled\n",
    "\n",
    "\n",
    "model_sel_scaled = std_scale(model_sel_df, scaler, cols_to_scale)\n",
    "tune_scaled = std_scale(tune_df, scaler, cols_to_scale)\n",
    "train_scaled = std_scale(train_df, scaler, cols_to_scale)\n",
    "test_scaled = std_scale(test_df, scaler, cols_to_scale)\n",
    "test1_scaled = std_scale(test1_df, scaler, cols_to_scale)\n",
    "test2_scaled = std_scale(test2_df, scaler, cols_to_scale)"
   ]
  },
  {
   "cell_type": "code",
   "execution_count": 130,
   "id": "ee92e63f",
   "metadata": {},
   "outputs": [],
   "source": [
    "### Save Normalized Data\n",
    "model_sel_scaled.to_pickle(TRAIN_DIR+\"/model_selection_scaled.pkl\")\n",
    "tune_scaled.to_pickle(TRAIN_DIR+\"/hparam_tuning_scaled.pkl\")\n",
    "train_scaled.to_pickle(TRAIN_DIR+\"/train_scaled.pkl\")\n",
    "test_scaled.to_pickle(TEST_DIR+\"/test_scaled.pkl\")\n",
    "test1_scaled.to_pickle(TEST_DIR+\"/test1_scaled.pkl\")\n",
    "test2_scaled.to_pickle(TEST_DIR+\"/test2_scaled.pkl\")\n"
   ]
  },
  {
   "cell_type": "code",
   "execution_count": 131,
   "id": "43191de0",
   "metadata": {},
   "outputs": [],
   "source": [
    "### Load Normalized Data\n",
    "model_sel_scaled = pd.read_pickle(TRAIN_DIR+\"/model_selection_scaled.pkl\")\n",
    "tune_scaled = pd.read_pickle(TRAIN_DIR+\"/hparam_tuning_scaled.pkl\")\n",
    "train_scaled = pd.read_pickle(TRAIN_DIR+\"/train_scaled.pkl\")\n",
    "test_scaled = pd.read_pickle(TEST_DIR+\"/test_scaled.pkl\")\n",
    "test1_scaled = pd.read_pickle(TEST_DIR+\"/test1_scaled.pkl\")\n",
    "test2_scaled = pd.read_pickle(TEST_DIR+\"/test2_scaled.pkl\")"
   ]
  },
  {
   "cell_type": "code",
   "execution_count": 136,
   "id": "753480d6",
   "metadata": {},
   "outputs": [
    {
     "data": {
      "text/plain": [
       "Index(['global_active_power', 'sub_metering_1', 'sub_metering_2',\n",
       "       'sub_metering_3', 'season_autumn', 'season_spring', 'season_summer',\n",
       "       'season_winter', 'day_of_week', 'hour_sin', 'hour_cos',\n",
       "       'sub_metering_other'],\n",
       "      dtype='object')"
      ]
     },
     "execution_count": 136,
     "metadata": {},
     "output_type": "execute_result"
    }
   ],
   "source": [
    "train_scaled.columns"
   ]
  },
  {
   "cell_type": "code",
   "execution_count": 172,
   "id": "d28da335",
   "metadata": {},
   "outputs": [],
   "source": [
    "### Lagging Data\n",
    "\n",
    "def create_lagged_sequences(df, target_col, lag_size=168, forecast_horizon=24):\n",
    "    features = df.drop(columns=[target_col]).values\n",
    "    target = df[target_col].values\n",
    "\n",
    "    num_samples = len(df) - lag_size - forecast_horizon + 1\n",
    "    num_features = features.shape[1]\n",
    "\n",
    "    X = np.zeros((num_samples, lag_size, num_features), dtype=np.float32)\n",
    "    y = np.zeros((num_samples, forecast_horizon, 1), dtype=np.float32)\n",
    "\n",
    "    for i in range(num_samples):\n",
    "        X[i] = features[i : i + lag_size]\n",
    "        y[i,:,0] = target[i + lag_size : i + lag_size + forecast_horizon]\n",
    "\n",
    "    return X, y\n",
    "\n",
    "target_col='global_active_power'\n",
    "\n",
    "\n",
    "X_model_sel, y_model_sel = create_lagged_sequences(model_sel_scaled, target_col)\n",
    "X_tune, y_tune = create_lagged_sequences(tune_scaled, target_col)\n",
    "X_train, y_train = create_lagged_sequences(train_scaled, target_col)\n",
    "X_test, y_test = create_lagged_sequences(test_scaled, target_col)\n",
    "X_test1, y_test1 = create_lagged_sequences(test1_scaled, target_col)\n",
    "X_test2, y_test2= create_lagged_sequences(test2_scaled, target_col)"
   ]
  },
  {
   "cell_type": "code",
   "execution_count": 173,
   "id": "d88200c2",
   "metadata": {},
   "outputs": [],
   "source": [
    "### Save Processed Data\n",
    "np.save(TRAIN_DIR+\"/X_model_sel.npy\", X_model_sel)\n",
    "np.save(TRAIN_DIR+\"/y_model_sel.npy\", y_model_sel)\n",
    "np.save(TRAIN_DIR+\"/X_tune.npy\", X_tune)\n",
    "np.save(TRAIN_DIR+\"/y_tune.npy\", y_tune)\n",
    "np.save(TRAIN_DIR+\"/X_train.npy\", X_train)\n",
    "np.save(TRAIN_DIR+\"/y_train.npy\", y_train)\n",
    "np.save(TRAIN_DIR+\"/X_test.npy\", X_test)\n",
    "np.save(TRAIN_DIR+\"/y_test.npy\", y_test)\n",
    "np.save(TRAIN_DIR+\"/X_test1.npy\", X_test1)\n",
    "np.save(TRAIN_DIR+\"/y_test1.npy\", y_test1)\n",
    "np.save(TRAIN_DIR+\"/X_test2.npy\", X_test2)\n",
    "np.save(TRAIN_DIR+\"/y_test2.npy\", y_test2)"
   ]
  },
  {
   "cell_type": "code",
   "execution_count": 174,
   "id": "b95a826c",
   "metadata": {},
   "outputs": [],
   "source": [
    "### Load Processed Data\n",
    "X_model_sel = np.load(TRAIN_DIR+\"/X_model_sel.npy\")\n",
    "y_model_sel = np.load(TRAIN_DIR+\"/y_model_sel.npy\")\n",
    "\n",
    "X_tune = np.load(TRAIN_DIR+\"/X_tune.npy\")\n",
    "y_tune = np.load(TRAIN_DIR+\"/y_tune.npy\")\n",
    "\n",
    "X_train = np.load(TRAIN_DIR+\"/X_train.npy\")\n",
    "y_train = np.load(TRAIN_DIR+\"/y_train.npy\")\n",
    "\n",
    "X_test = np.load(TRAIN_DIR+\"/X_test.npy\")\n",
    "y_test = np.load(TRAIN_DIR+\"/y_test.npy\")\n",
    "\n",
    "X_test1 = np.load(TRAIN_DIR+\"/X_test1.npy\")\n",
    "y_test1 = np.load(TRAIN_DIR+\"/y_test1.npy\")\n",
    "\n",
    "X_test2 = np.load(TRAIN_DIR+\"/X_test2.npy\")\n",
    "y_test2 = np.load(TRAIN_DIR+\"/y_test2.npy\")"
   ]
  },
  {
   "cell_type": "code",
   "execution_count": 175,
   "id": "9878247f",
   "metadata": {},
   "outputs": [
    {
     "data": {
      "text/plain": [
       "[((1969, 168, 11), (1969, 24, 1)),\n",
       " ((1969, 168, 11), (1969, 24, 1)),\n",
       " ((17329, 168, 11), (17329, 24, 1)),\n",
       " ((1969, 168, 11), (1969, 24, 1)),\n",
       " ((1993, 168, 11), (1993, 24, 1)),\n",
       " ((2041, 168, 11), (2041, 24, 1))]"
      ]
     },
     "execution_count": 175,
     "metadata": {},
     "output_type": "execute_result"
    }
   ],
   "source": [
    "[(X_model_sel.shape, y_model_sel.shape), (X_tune.shape, y_tune.shape), (X_train.shape, y_train.shape), (X_test.shape, y_test.shape), (X_test1.shape, y_test1.shape), (X_test2.shape, y_test2.shape)]"
   ]
  },
  {
   "cell_type": "markdown",
   "id": "88fab193",
   "metadata": {},
   "source": [
    "## 2. Model Selection\n",
    "Train both model with `model_selection` subset with `validation_split = 0.2`. \n",
    "\n",
    "### LSTM\n",
    "\n",
    "### S2S\n",
    "Seq2seq \n",
    "\n",
    "### Evaluation\n",
    "Use $\\mathrm{RMSE}$ to compare models\n",
    "\n",
    "### Save Model\n",
    "Save both models in `model`\n"
   ]
  },
  {
   "cell_type": "code",
   "execution_count": 185,
   "id": "d372a399",
   "metadata": {},
   "outputs": [],
   "source": [
    "### LSTM\n",
    "def build_LSTM(input_shape, units=64, dropout_rate=0.2, learning_rate = 0.001):\n",
    "    model = Sequential([\n",
    "        layers.Input(shape=input_shape),\n",
    "        layers.LSTM(units),\n",
    "        layers.Dropout(dropout_rate),\n",
    "        layers.Dense(units=int(units/2), activation='relu'),\n",
    "        layers.Dense(24)\n",
    "    ])\n",
    "    model.compile(optimizer=Adam(learning_rate=learning_rate), loss='mse', metrics=['mae'])\n",
    "    return model"
   ]
  },
  {
   "cell_type": "code",
   "execution_count": null,
   "id": "f5c74e7b",
   "metadata": {},
   "outputs": [],
   "source": [
    "# ### S2S\n",
    "class Encoder(layers.Layer):\n",
    "    def __init__(self, units):\n",
    "        super(Encoder, self).__init__()\n",
    "        self.units = units\n",
    "        self.lstm = layers.LSTM(\n",
    "            units,\n",
    "            return_state = True, \n",
    "        )\n",
    "\n",
    "    def call(self, X):\n",
    "        output, state_h, state_c = self.lstm(X)\n",
    "        return output, [state_h, state_c]\n",
    "class Decoder(layers.Layer):\n",
    "    def __init__(self, output_shape, units):\n",
    "        super(Decoder, self).__init__()\n",
    "        self.output_shape = output_shape\n",
    "        self.units = units\n",
    "        self.lstm = layers.LSTM(\n",
    "            units,\n",
    "            return_sequences=True,\n",
    "            return_state=True,\n",
    "        )\n",
    "        self.dense  = layers.Dense(output_shape)\n",
    "\n",
    "    def call(self, X, initial_state=None, return_state=False):\n",
    "        lstm_out, state_h, state_c = self.lstm(X, initial_state=initial_state)\n",
    "        output = self.dense(lstm_out)\n",
    "\n",
    "        if return_state:\n",
    "            return output, [state_h, state_c]\n",
    "        else:\n",
    "            return output\n",
    "class Seq2SeqEncoder(Model):  #@save\n",
    "    def __init__(self, encoder_units, decoder_units, output_shape):\n",
    "        super().__init__()\n",
    "        self.encoder = Encoder(encoder_units)\n",
    "        self.decoder = Decoder(decoder_units, output_shape)\n",
    "\n",
    "    def call(self, endocoder_input, decoder_input):\n",
    "        _, states = self.encoder(endocoder_input)\n",
    "        output = self.decoder(decoder_input, initial_state=states)\n",
    "        return output"
   ]
  },
  {
   "cell_type": "code",
   "execution_count": 186,
   "id": "dd67b807",
   "metadata": {},
   "outputs": [
    {
     "data": {
      "text/html": [
       "<pre style=\"white-space:pre;overflow-x:auto;line-height:normal;font-family:Menlo,'DejaVu Sans Mono',consolas,'Courier New',monospace\"><span style=\"font-weight: bold\">Model: \"sequential\"</span>\n",
       "</pre>\n"
      ],
      "text/plain": [
       "\u001b[1mModel: \"sequential\"\u001b[0m\n"
      ]
     },
     "metadata": {},
     "output_type": "display_data"
    },
    {
     "data": {
      "text/html": [
       "<pre style=\"white-space:pre;overflow-x:auto;line-height:normal;font-family:Menlo,'DejaVu Sans Mono',consolas,'Courier New',monospace\">┏━━━━━━━━━━━━━━━━━━━━━━━━━━━━━━━━━┳━━━━━━━━━━━━━━━━━━━━━━━━┳━━━━━━━━━━━━━━━┓\n",
       "┃<span style=\"font-weight: bold\"> Layer (type)                    </span>┃<span style=\"font-weight: bold\"> Output Shape           </span>┃<span style=\"font-weight: bold\">       Param # </span>┃\n",
       "┡━━━━━━━━━━━━━━━━━━━━━━━━━━━━━━━━━╇━━━━━━━━━━━━━━━━━━━━━━━━╇━━━━━━━━━━━━━━━┩\n",
       "│ lstm (<span style=\"color: #0087ff; text-decoration-color: #0087ff\">LSTM</span>)                     │ (<span style=\"color: #00d7ff; text-decoration-color: #00d7ff\">None</span>, <span style=\"color: #00af00; text-decoration-color: #00af00\">64</span>)             │        <span style=\"color: #00af00; text-decoration-color: #00af00\">19,456</span> │\n",
       "├─────────────────────────────────┼────────────────────────┼───────────────┤\n",
       "│ dropout (<span style=\"color: #0087ff; text-decoration-color: #0087ff\">Dropout</span>)               │ (<span style=\"color: #00d7ff; text-decoration-color: #00d7ff\">None</span>, <span style=\"color: #00af00; text-decoration-color: #00af00\">64</span>)             │             <span style=\"color: #00af00; text-decoration-color: #00af00\">0</span> │\n",
       "├─────────────────────────────────┼────────────────────────┼───────────────┤\n",
       "│ dense (<span style=\"color: #0087ff; text-decoration-color: #0087ff\">Dense</span>)                   │ (<span style=\"color: #00d7ff; text-decoration-color: #00d7ff\">None</span>, <span style=\"color: #00af00; text-decoration-color: #00af00\">32</span>)             │         <span style=\"color: #00af00; text-decoration-color: #00af00\">2,080</span> │\n",
       "├─────────────────────────────────┼────────────────────────┼───────────────┤\n",
       "│ dense_1 (<span style=\"color: #0087ff; text-decoration-color: #0087ff\">Dense</span>)                 │ (<span style=\"color: #00d7ff; text-decoration-color: #00d7ff\">None</span>, <span style=\"color: #00af00; text-decoration-color: #00af00\">24</span>)             │           <span style=\"color: #00af00; text-decoration-color: #00af00\">792</span> │\n",
       "└─────────────────────────────────┴────────────────────────┴───────────────┘\n",
       "</pre>\n"
      ],
      "text/plain": [
       "┏━━━━━━━━━━━━━━━━━━━━━━━━━━━━━━━━━┳━━━━━━━━━━━━━━━━━━━━━━━━┳━━━━━━━━━━━━━━━┓\n",
       "┃\u001b[1m \u001b[0m\u001b[1mLayer (type)                   \u001b[0m\u001b[1m \u001b[0m┃\u001b[1m \u001b[0m\u001b[1mOutput Shape          \u001b[0m\u001b[1m \u001b[0m┃\u001b[1m \u001b[0m\u001b[1m      Param #\u001b[0m\u001b[1m \u001b[0m┃\n",
       "┡━━━━━━━━━━━━━━━━━━━━━━━━━━━━━━━━━╇━━━━━━━━━━━━━━━━━━━━━━━━╇━━━━━━━━━━━━━━━┩\n",
       "│ lstm (\u001b[38;5;33mLSTM\u001b[0m)                     │ (\u001b[38;5;45mNone\u001b[0m, \u001b[38;5;34m64\u001b[0m)             │        \u001b[38;5;34m19,456\u001b[0m │\n",
       "├─────────────────────────────────┼────────────────────────┼───────────────┤\n",
       "│ dropout (\u001b[38;5;33mDropout\u001b[0m)               │ (\u001b[38;5;45mNone\u001b[0m, \u001b[38;5;34m64\u001b[0m)             │             \u001b[38;5;34m0\u001b[0m │\n",
       "├─────────────────────────────────┼────────────────────────┼───────────────┤\n",
       "│ dense (\u001b[38;5;33mDense\u001b[0m)                   │ (\u001b[38;5;45mNone\u001b[0m, \u001b[38;5;34m32\u001b[0m)             │         \u001b[38;5;34m2,080\u001b[0m │\n",
       "├─────────────────────────────────┼────────────────────────┼───────────────┤\n",
       "│ dense_1 (\u001b[38;5;33mDense\u001b[0m)                 │ (\u001b[38;5;45mNone\u001b[0m, \u001b[38;5;34m24\u001b[0m)             │           \u001b[38;5;34m792\u001b[0m │\n",
       "└─────────────────────────────────┴────────────────────────┴───────────────┘\n"
      ]
     },
     "metadata": {},
     "output_type": "display_data"
    },
    {
     "data": {
      "text/html": [
       "<pre style=\"white-space:pre;overflow-x:auto;line-height:normal;font-family:Menlo,'DejaVu Sans Mono',consolas,'Courier New',monospace\"><span style=\"font-weight: bold\"> Total params: </span><span style=\"color: #00af00; text-decoration-color: #00af00\">22,328</span> (87.22 KB)\n",
       "</pre>\n"
      ],
      "text/plain": [
       "\u001b[1m Total params: \u001b[0m\u001b[38;5;34m22,328\u001b[0m (87.22 KB)\n"
      ]
     },
     "metadata": {},
     "output_type": "display_data"
    },
    {
     "data": {
      "text/html": [
       "<pre style=\"white-space:pre;overflow-x:auto;line-height:normal;font-family:Menlo,'DejaVu Sans Mono',consolas,'Courier New',monospace\"><span style=\"font-weight: bold\"> Trainable params: </span><span style=\"color: #00af00; text-decoration-color: #00af00\">22,328</span> (87.22 KB)\n",
       "</pre>\n"
      ],
      "text/plain": [
       "\u001b[1m Trainable params: \u001b[0m\u001b[38;5;34m22,328\u001b[0m (87.22 KB)\n"
      ]
     },
     "metadata": {},
     "output_type": "display_data"
    },
    {
     "data": {
      "text/html": [
       "<pre style=\"white-space:pre;overflow-x:auto;line-height:normal;font-family:Menlo,'DejaVu Sans Mono',consolas,'Courier New',monospace\"><span style=\"font-weight: bold\"> Non-trainable params: </span><span style=\"color: #00af00; text-decoration-color: #00af00\">0</span> (0.00 B)\n",
       "</pre>\n"
      ],
      "text/plain": [
       "\u001b[1m Non-trainable params: \u001b[0m\u001b[38;5;34m0\u001b[0m (0.00 B)\n"
      ]
     },
     "metadata": {},
     "output_type": "display_data"
    }
   ],
   "source": [
    "delete_model('model_sel_LSTM', 'history_sel_LSTM')\n",
    "\n",
    "input_shape = X_model_sel.shape[1:]\n",
    "output_shape = y_model_sel.shape[1:]\n",
    "\n",
    "model_sel_LSTM = build_LSTM(input_shape)\n",
    "model_sel_LSTM.summary()"
   ]
  },
  {
   "cell_type": "code",
   "execution_count": 187,
   "id": "64ed2db3",
   "metadata": {},
   "outputs": [
    {
     "name": "stdout",
     "output_type": "stream",
     "text": [
      "Epoch 1/100\n",
      "\u001b[1m50/50\u001b[0m \u001b[32m━━━━━━━━━━━━━━━━━━━━\u001b[0m\u001b[37m\u001b[0m \u001b[1m3s\u001b[0m 32ms/step - loss: 1.8548 - mae: 1.0895 - val_loss: 1.4571 - val_mae: 1.0275\n",
      "Epoch 2/100\n",
      "\u001b[1m50/50\u001b[0m \u001b[32m━━━━━━━━━━━━━━━━━━━━\u001b[0m\u001b[37m\u001b[0m \u001b[1m1s\u001b[0m 25ms/step - loss: 1.5916 - mae: 1.0314 - val_loss: 1.4118 - val_mae: 1.0172\n",
      "Epoch 3/100\n",
      "\u001b[1m50/50\u001b[0m \u001b[32m━━━━━━━━━━━━━━━━━━━━\u001b[0m\u001b[37m\u001b[0m \u001b[1m1s\u001b[0m 22ms/step - loss: 1.4921 - mae: 1.0006 - val_loss: 1.3693 - val_mae: 1.0026\n",
      "Epoch 4/100\n",
      "\u001b[1m50/50\u001b[0m \u001b[32m━━━━━━━━━━━━━━━━━━━━\u001b[0m\u001b[37m\u001b[0m \u001b[1m1s\u001b[0m 22ms/step - loss: 1.4479 - mae: 0.9822 - val_loss: 1.3339 - val_mae: 0.9903\n",
      "Epoch 5/100\n",
      "\u001b[1m50/50\u001b[0m \u001b[32m━━━━━━━━━━━━━━━━━━━━\u001b[0m\u001b[37m\u001b[0m \u001b[1m1s\u001b[0m 22ms/step - loss: 1.4052 - mae: 0.9646 - val_loss: 1.3064 - val_mae: 0.9794\n",
      "Epoch 6/100\n",
      "\u001b[1m50/50\u001b[0m \u001b[32m━━━━━━━━━━━━━━━━━━━━\u001b[0m\u001b[37m\u001b[0m \u001b[1m1s\u001b[0m 19ms/step - loss: 1.3660 - mae: 0.9495 - val_loss: 1.2672 - val_mae: 0.9619\n",
      "Epoch 7/100\n",
      "\u001b[1m50/50\u001b[0m \u001b[32m━━━━━━━━━━━━━━━━━━━━\u001b[0m\u001b[37m\u001b[0m \u001b[1m1s\u001b[0m 21ms/step - loss: 1.3270 - mae: 0.9309 - val_loss: 1.2186 - val_mae: 0.9382\n",
      "Epoch 8/100\n",
      "\u001b[1m50/50\u001b[0m \u001b[32m━━━━━━━━━━━━━━━━━━━━\u001b[0m\u001b[37m\u001b[0m \u001b[1m1s\u001b[0m 21ms/step - loss: 1.2929 - mae: 0.9142 - val_loss: 1.1721 - val_mae: 0.9123\n",
      "Epoch 9/100\n",
      "\u001b[1m50/50\u001b[0m \u001b[32m━━━━━━━━━━━━━━━━━━━━\u001b[0m\u001b[37m\u001b[0m \u001b[1m3s\u001b[0m 53ms/step - loss: 1.2440 - mae: 0.8919 - val_loss: 1.1611 - val_mae: 0.8984\n",
      "Epoch 10/100\n",
      "\u001b[1m50/50\u001b[0m \u001b[32m━━━━━━━━━━━━━━━━━━━━\u001b[0m\u001b[37m\u001b[0m \u001b[1m1s\u001b[0m 20ms/step - loss: 1.2041 - mae: 0.8719 - val_loss: 1.1332 - val_mae: 0.8806\n",
      "Epoch 11/100\n",
      "\u001b[1m50/50\u001b[0m \u001b[32m━━━━━━━━━━━━━━━━━━━━\u001b[0m\u001b[37m\u001b[0m \u001b[1m1s\u001b[0m 20ms/step - loss: 1.1474 - mae: 0.8499 - val_loss: 1.0874 - val_mae: 0.8459\n",
      "Epoch 12/100\n",
      "\u001b[1m50/50\u001b[0m \u001b[32m━━━━━━━━━━━━━━━━━━━━\u001b[0m\u001b[37m\u001b[0m \u001b[1m1s\u001b[0m 20ms/step - loss: 1.1004 - mae: 0.8357 - val_loss: 1.2011 - val_mae: 0.9086\n",
      "Epoch 13/100\n",
      "\u001b[1m50/50\u001b[0m \u001b[32m━━━━━━━━━━━━━━━━━━━━\u001b[0m\u001b[37m\u001b[0m \u001b[1m1s\u001b[0m 23ms/step - loss: 1.1071 - mae: 0.8313 - val_loss: 1.0636 - val_mae: 0.8133\n",
      "Epoch 14/100\n",
      "\u001b[1m50/50\u001b[0m \u001b[32m━━━━━━━━━━━━━━━━━━━━\u001b[0m\u001b[37m\u001b[0m \u001b[1m1s\u001b[0m 23ms/step - loss: 1.0663 - mae: 0.8182 - val_loss: 1.0447 - val_mae: 0.7798\n",
      "Epoch 15/100\n",
      "\u001b[1m50/50\u001b[0m \u001b[32m━━━━━━━━━━━━━━━━━━━━\u001b[0m\u001b[37m\u001b[0m \u001b[1m1s\u001b[0m 22ms/step - loss: 1.0198 - mae: 0.8037 - val_loss: 0.9841 - val_mae: 0.7326\n",
      "Epoch 16/100\n",
      "\u001b[1m50/50\u001b[0m \u001b[32m━━━━━━━━━━━━━━━━━━━━\u001b[0m\u001b[37m\u001b[0m \u001b[1m1s\u001b[0m 23ms/step - loss: 1.0302 - mae: 0.7986 - val_loss: 1.2980 - val_mae: 0.9474\n",
      "Epoch 17/100\n",
      "\u001b[1m50/50\u001b[0m \u001b[32m━━━━━━━━━━━━━━━━━━━━\u001b[0m\u001b[37m\u001b[0m \u001b[1m1s\u001b[0m 25ms/step - loss: 1.0887 - mae: 0.8125 - val_loss: 1.0543 - val_mae: 0.8404\n",
      "Epoch 18/100\n",
      "\u001b[1m50/50\u001b[0m \u001b[32m━━━━━━━━━━━━━━━━━━━━\u001b[0m\u001b[37m\u001b[0m \u001b[1m1s\u001b[0m 23ms/step - loss: 1.0093 - mae: 0.7897 - val_loss: 1.0719 - val_mae: 0.8356\n",
      "Epoch 19/100\n",
      "\u001b[1m50/50\u001b[0m \u001b[32m━━━━━━━━━━━━━━━━━━━━\u001b[0m\u001b[37m\u001b[0m \u001b[1m1s\u001b[0m 17ms/step - loss: 0.9687 - mae: 0.7688 - val_loss: 1.0217 - val_mae: 0.7986\n",
      "Epoch 20/100\n",
      "\u001b[1m50/50\u001b[0m \u001b[32m━━━━━━━━━━━━━━━━━━━━\u001b[0m\u001b[37m\u001b[0m \u001b[1m1s\u001b[0m 19ms/step - loss: 0.9354 - mae: 0.7555 - val_loss: 1.0264 - val_mae: 0.7772\n",
      "Epoch 21/100\n",
      "\u001b[1m50/50\u001b[0m \u001b[32m━━━━━━━━━━━━━━━━━━━━\u001b[0m\u001b[37m\u001b[0m \u001b[1m1s\u001b[0m 21ms/step - loss: 0.8979 - mae: 0.7413 - val_loss: 0.9798 - val_mae: 0.7413\n",
      "Epoch 22/100\n",
      "\u001b[1m50/50\u001b[0m \u001b[32m━━━━━━━━━━━━━━━━━━━━\u001b[0m\u001b[37m\u001b[0m \u001b[1m1s\u001b[0m 24ms/step - loss: 0.8903 - mae: 0.7353 - val_loss: 0.9598 - val_mae: 0.7246\n",
      "Epoch 23/100\n",
      "\u001b[1m50/50\u001b[0m \u001b[32m━━━━━━━━━━━━━━━━━━━━\u001b[0m\u001b[37m\u001b[0m \u001b[1m1s\u001b[0m 22ms/step - loss: 0.8925 - mae: 0.7331 - val_loss: 0.9625 - val_mae: 0.7157\n",
      "Epoch 24/100\n",
      "\u001b[1m50/50\u001b[0m \u001b[32m━━━━━━━━━━━━━━━━━━━━\u001b[0m\u001b[37m\u001b[0m \u001b[1m1s\u001b[0m 20ms/step - loss: 0.8689 - mae: 0.7212 - val_loss: 1.0189 - val_mae: 0.7434\n",
      "Epoch 25/100\n",
      "\u001b[1m50/50\u001b[0m \u001b[32m━━━━━━━━━━━━━━━━━━━━\u001b[0m\u001b[37m\u001b[0m \u001b[1m1s\u001b[0m 18ms/step - loss: 0.9090 - mae: 0.7359 - val_loss: 0.9974 - val_mae: 0.7335\n",
      "Epoch 26/100\n",
      "\u001b[1m50/50\u001b[0m \u001b[32m━━━━━━━━━━━━━━━━━━━━\u001b[0m\u001b[37m\u001b[0m \u001b[1m1s\u001b[0m 20ms/step - loss: 0.9681 - mae: 0.7673 - val_loss: 0.9878 - val_mae: 0.7217\n",
      "Epoch 27/100\n",
      "\u001b[1m50/50\u001b[0m \u001b[32m━━━━━━━━━━━━━━━━━━━━\u001b[0m\u001b[37m\u001b[0m \u001b[1m1s\u001b[0m 19ms/step - loss: 0.8406 - mae: 0.7141 - val_loss: 1.0267 - val_mae: 0.7128\n",
      "Epoch 28/100\n",
      "\u001b[1m50/50\u001b[0m \u001b[32m━━━━━━━━━━━━━━━━━━━━\u001b[0m\u001b[37m\u001b[0m \u001b[1m1s\u001b[0m 22ms/step - loss: 0.8099 - mae: 0.6955 - val_loss: 1.0668 - val_mae: 0.7386\n",
      "Epoch 29/100\n",
      "\u001b[1m50/50\u001b[0m \u001b[32m━━━━━━━━━━━━━━━━━━━━\u001b[0m\u001b[37m\u001b[0m \u001b[1m1s\u001b[0m 22ms/step - loss: 0.8030 - mae: 0.6925 - val_loss: 1.0423 - val_mae: 0.7141\n",
      "Epoch 30/100\n",
      "\u001b[1m50/50\u001b[0m \u001b[32m━━━━━━━━━━━━━━━━━━━━\u001b[0m\u001b[37m\u001b[0m \u001b[1m1s\u001b[0m 20ms/step - loss: 0.7892 - mae: 0.6847 - val_loss: 1.0038 - val_mae: 0.7043\n",
      "Epoch 31/100\n",
      "\u001b[1m50/50\u001b[0m \u001b[32m━━━━━━━━━━━━━━━━━━━━\u001b[0m\u001b[37m\u001b[0m \u001b[1m1s\u001b[0m 26ms/step - loss: 0.7646 - mae: 0.6759 - val_loss: 0.9943 - val_mae: 0.7014\n",
      "Epoch 32/100\n",
      "\u001b[1m50/50\u001b[0m \u001b[32m━━━━━━━━━━━━━━━━━━━━\u001b[0m\u001b[37m\u001b[0m \u001b[1m1s\u001b[0m 22ms/step - loss: 0.8036 - mae: 0.6968 - val_loss: 1.0763 - val_mae: 0.7347\n",
      "Epoch 33/100\n",
      "\u001b[1m50/50\u001b[0m \u001b[32m━━━━━━━━━━━━━━━━━━━━\u001b[0m\u001b[37m\u001b[0m \u001b[1m1s\u001b[0m 20ms/step - loss: 0.7990 - mae: 0.6914 - val_loss: 1.1027 - val_mae: 0.7414\n",
      "Epoch 34/100\n",
      "\u001b[1m50/50\u001b[0m \u001b[32m━━━━━━━━━━━━━━━━━━━━\u001b[0m\u001b[37m\u001b[0m \u001b[1m1s\u001b[0m 20ms/step - loss: 0.7519 - mae: 0.6722 - val_loss: 1.0439 - val_mae: 0.7039\n",
      "Epoch 35/100\n",
      "\u001b[1m50/50\u001b[0m \u001b[32m━━━━━━━━━━━━━━━━━━━━\u001b[0m\u001b[37m\u001b[0m \u001b[1m1s\u001b[0m 20ms/step - loss: 0.7251 - mae: 0.6569 - val_loss: 1.0046 - val_mae: 0.6989\n",
      "Epoch 36/100\n",
      "\u001b[1m50/50\u001b[0m \u001b[32m━━━━━━━━━━━━━━━━━━━━\u001b[0m\u001b[37m\u001b[0m \u001b[1m1s\u001b[0m 20ms/step - loss: 0.7097 - mae: 0.6495 - val_loss: 1.0122 - val_mae: 0.6962\n",
      "Epoch 37/100\n",
      "\u001b[1m50/50\u001b[0m \u001b[32m━━━━━━━━━━━━━━━━━━━━\u001b[0m\u001b[37m\u001b[0m \u001b[1m1s\u001b[0m 22ms/step - loss: 0.6961 - mae: 0.6421 - val_loss: 0.9959 - val_mae: 0.6966\n"
     ]
    }
   ],
   "source": [
    "### Train Each Model\n",
    "check_point = ModelCheckpoint(\n",
    "    MODEL_DIR + '/model_sel_LSTM_best.keras',\n",
    "    monitor='val_loss',\n",
    "    save_best_only=True\n",
    ")\n",
    "\n",
    "early_stop = EarlyStopping(\n",
    "    monitor='val_loss',\n",
    "    patience=15,\n",
    "    restore_best_weights=True\n",
    ")\n",
    "\n",
    "\n",
    "history_sel_LSTM = model_sel_LSTM.fit(\n",
    "    X_model_sel, y_model_sel,\n",
    "    validation_split=0.2,\n",
    "    epochs=100,\n",
    "    batch_size=32,\n",
    "    shuffle=False,\n",
    "    callbacks=[check_point, early_stop]\n",
    ")"
   ]
  },
  {
   "cell_type": "code",
   "execution_count": 189,
   "id": "3b1c888f",
   "metadata": {},
   "outputs": [
    {
     "data": {
      "text/plain": [
       "{'loss': [1.6878901720046997,\n",
       "  1.5133347511291504,\n",
       "  1.4374468326568604,\n",
       "  1.39424729347229,\n",
       "  1.3517628908157349,\n",
       "  1.3107898235321045,\n",
       "  1.267655372619629,\n",
       "  1.2304586172103882,\n",
       "  1.1834887266159058,\n",
       "  1.141417384147644,\n",
       "  1.0980939865112305,\n",
       "  1.0629234313964844,\n",
       "  1.0548807382583618,\n",
       "  1.0063903331756592,\n",
       "  0.9722175598144531,\n",
       "  1.0257978439331055,\n",
       "  1.0148335695266724,\n",
       "  0.9454310536384583,\n",
       "  0.9179813265800476,\n",
       "  0.8933376669883728,\n",
       "  0.8648500442504883,\n",
       "  0.8495274782180786,\n",
       "  0.8426898121833801,\n",
       "  0.8258791565895081,\n",
       "  0.8822367787361145,\n",
       "  0.8467507362365723,\n",
       "  0.7832337617874146,\n",
       "  0.7626651525497437,\n",
       "  0.7592198848724365,\n",
       "  0.7510872483253479,\n",
       "  0.7281994223594666,\n",
       "  0.7786625027656555,\n",
       "  0.7599998712539673,\n",
       "  0.7101026177406311,\n",
       "  0.692390501499176,\n",
       "  0.6855840682983398,\n",
       "  0.6677895784378052],\n",
       " 'mae': [1.0430042743682861,\n",
       "  1.0043840408325195,\n",
       "  0.9795826077461243,\n",
       "  0.962035059928894,\n",
       "  0.9432162046432495,\n",
       "  0.9265102744102478,\n",
       "  0.9057007431983948,\n",
       "  0.8871893882751465,\n",
       "  0.8647637367248535,\n",
       "  0.8436979651451111,\n",
       "  0.8227838277816772,\n",
       "  0.8140450119972229,\n",
       "  0.7987060546875,\n",
       "  0.7828893661499023,\n",
       "  0.7687872648239136,\n",
       "  0.7945814728736877,\n",
       "  0.7824447154998779,\n",
       "  0.7573815584182739,\n",
       "  0.7420284748077393,\n",
       "  0.7297313809394836,\n",
       "  0.7170828580856323,\n",
       "  0.7062474489212036,\n",
       "  0.7030126452445984,\n",
       "  0.6937786936759949,\n",
       "  0.712947428226471,\n",
       "  0.7042076587677002,\n",
       "  0.6767594218254089,\n",
       "  0.6639953851699829,\n",
       "  0.6610732078552246,\n",
       "  0.6584782004356384,\n",
       "  0.6491734385490417,\n",
       "  0.669867217540741,\n",
       "  0.6613478660583496,\n",
       "  0.6389312148094177,\n",
       "  0.6323932409286499,\n",
       "  0.627313494682312,\n",
       "  0.6194944381713867],\n",
       " 'val_loss': [1.457122802734375,\n",
       "  1.411820650100708,\n",
       "  1.369314432144165,\n",
       "  1.3338557481765747,\n",
       "  1.306350827217102,\n",
       "  1.267172932624817,\n",
       "  1.2185521125793457,\n",
       "  1.1721032857894897,\n",
       "  1.1611188650131226,\n",
       "  1.133160948753357,\n",
       "  1.0873852968215942,\n",
       "  1.2010774612426758,\n",
       "  1.063590168952942,\n",
       "  1.044693112373352,\n",
       "  0.9840930104255676,\n",
       "  1.2979916334152222,\n",
       "  1.054258942604065,\n",
       "  1.0718530416488647,\n",
       "  1.0216950178146362,\n",
       "  1.0264110565185547,\n",
       "  0.9798492789268494,\n",
       "  0.9597976803779602,\n",
       "  0.9624936580657959,\n",
       "  1.018927812576294,\n",
       "  0.9973674416542053,\n",
       "  0.9878408908843994,\n",
       "  1.0267215967178345,\n",
       "  1.0668047666549683,\n",
       "  1.04225754737854,\n",
       "  1.0038293600082397,\n",
       "  0.9942503571510315,\n",
       "  1.0762630701065063,\n",
       "  1.1027004718780518,\n",
       "  1.0439196825027466,\n",
       "  1.0045660734176636,\n",
       "  1.0121515989303589,\n",
       "  0.9959343671798706],\n",
       " 'val_mae': [1.027518391609192,\n",
       "  1.0171791315078735,\n",
       "  1.0025509595870972,\n",
       "  0.9902768135070801,\n",
       "  0.9793867468833923,\n",
       "  0.9619123339653015,\n",
       "  0.9382339119911194,\n",
       "  0.9122720956802368,\n",
       "  0.8984122276306152,\n",
       "  0.8805632591247559,\n",
       "  0.8459237813949585,\n",
       "  0.9086463451385498,\n",
       "  0.8133429288864136,\n",
       "  0.7797935009002686,\n",
       "  0.732646644115448,\n",
       "  0.9473963975906372,\n",
       "  0.8403945565223694,\n",
       "  0.8356220722198486,\n",
       "  0.7986059784889221,\n",
       "  0.777182400226593,\n",
       "  0.741276204586029,\n",
       "  0.7246379852294922,\n",
       "  0.7157491445541382,\n",
       "  0.7433895468711853,\n",
       "  0.7335460782051086,\n",
       "  0.7217220067977905,\n",
       "  0.7127858400344849,\n",
       "  0.738620400428772,\n",
       "  0.7140913605690002,\n",
       "  0.7043302655220032,\n",
       "  0.7013629674911499,\n",
       "  0.7346691489219666,\n",
       "  0.7413856983184814,\n",
       "  0.7039279341697693,\n",
       "  0.6988509893417358,\n",
       "  0.6961954236030579,\n",
       "  0.6966420412063599]}"
      ]
     },
     "execution_count": 189,
     "metadata": {},
     "output_type": "execute_result"
    }
   ],
   "source": [
    "history_sel_LSTM.history"
   ]
  },
  {
   "cell_type": "code",
   "execution_count": 188,
   "id": "38a9ca66",
   "metadata": {},
   "outputs": [
    {
     "data": {
      "image/png": "[encoded data removed]",
      "text/plain": [
       "<Figure size 640x480 with 1 Axes>"
      ]
     },
     "metadata": {},
     "output_type": "display_data"
    },
    {
     "data": {
      "text/plain": [
       "<Figure size 640x480 with 0 Axes>"
      ]
     },
     "metadata": {},
     "output_type": "display_data"
    }
   ],
   "source": [
    "plot_loss(history_sel_LSTM,maxy=2.0)"
   ]
  },
  {
   "cell_type": "code",
   "execution_count": 190,
   "id": "7f6c164c",
   "metadata": {},
   "outputs": [
    {
     "name": "stdout",
     "output_type": "stream",
     "text": [
      "\u001b[1m62/62\u001b[0m \u001b[32m━━━━━━━━━━━━━━━━━━━━\u001b[0m\u001b[37m\u001b[0m \u001b[1m1s\u001b[0m 9ms/step\n"
     ]
    }
   ],
   "source": [
    "### Evaluation\n",
    "model_sel_LSTM_b = load_model(MODEL_DIR+'/model_sel_LSTM_best.keras')\n",
    "pred_sel_LSTM = model_sel_LSTM.predict(X_test)\n",
    "\n"
   ]
  },
  {
   "cell_type": "code",
   "execution_count": 192,
   "id": "5d44583d",
   "metadata": {},
   "outputs": [
    {
     "data": {
      "image/png": "[encoded data removed]",
      "text/plain": [
       "<Figure size 1200x400 with 1 Axes>"
      ]
     },
     "metadata": {},
     "output_type": "display_data"
    }
   ],
   "source": [
    "plot_forecast(y_test[0], pred_sel_LSTM[0])"
   ]
  },
  {
   "cell_type": "code",
   "execution_count": 201,
   "id": "62150e63",
   "metadata": {},
   "outputs": [],
   "source": [
    "# ### S2S\n",
    "class Encoder(layers.Layer):\n",
    "    def __init__(self, units):\n",
    "        super(Encoder, self).__init__()\n",
    "        self.units = units\n",
    "        self.lstm = layers.LSTM(\n",
    "            units,\n",
    "            return_state = True, \n",
    "        )\n",
    "\n",
    "    def call(self, X):\n",
    "        output, state_h, state_c = self.lstm(X)\n",
    "        return output, [state_h, state_c]\n",
    "\n",
    "class Decoder(layers.Layer):\n",
    "    def __init__(self, units):\n",
    "        super(Decoder, self).__init__()\n",
    "        self.units = units\n",
    "        self.lstm = layers.LSTM(\n",
    "            units,\n",
    "            return_sequences=True,\n",
    "            return_state=True,\n",
    "        )\n",
    "        self.dense  = layers.Dense(1)\n",
    "\n",
    "    def call(self, X, initial_state=None, return_state=False):\n",
    "        lstm_out, state_h, state_c = self.lstm(X, initial_state=initial_state)\n",
    "        output = self.dense(lstm_out)\n",
    "\n",
    "        if return_state:\n",
    "            return output, [state_h, state_c]\n",
    "        else:\n",
    "            return output\n",
    "\n",
    "class Seq2SeqEncoder(Model):  #@save\n",
    "    def __init__(self, encoder_units, decoder_units):\n",
    "        super().__init__()\n",
    "        self.encoder = Encoder(encoder_units)\n",
    "        self.decoder = Decoder(decoder_units)\n",
    "\n",
    "    def call(self, encoder_input, decoder_input):\n",
    "        _, states = self.encoder(encoder_input)\n",
    "        output = self.decoder(decoder_input, initial_state=states)\n",
    "        return output"
   ]
  },
  {
   "cell_type": "code",
   "execution_count": 205,
   "id": "014c5c21",
   "metadata": {},
   "outputs": [],
   "source": [
    "delete_model('model_sel_S2S', 'history_sel_S2S')\n",
    "decoder_input = np.zeros_like(y_model_sel)\n",
    "decoder_input[:, 1:, :] = y_model_sel[:, :-1, :]\n",
    "\n",
    "output_shape = y_model_sel.shape[1:-1]\n",
    "\n",
    "model_sel_S2S = Seq2SeqEncoder(64, 24)\n"
   ]
  },
  {
   "cell_type": "code",
   "execution_count": null,
   "id": "f5fdf6c8",
   "metadata": {},
   "outputs": [
    {
     "ename": "ValueError",
     "evalue": "Data cardinality is ambiguous. Make sure all arrays contain the same number of samples.'x' sizes: 13863, 1969\n'y' sizes: 13863\n",
     "output_type": "error",
     "traceback": [
      "\u001b[31m---------------------------------------------------------------------------\u001b[39m",
      "\u001b[31mValueError\u001b[39m                                Traceback (most recent call last)",
      "\u001b[36mCell\u001b[39m\u001b[36m \u001b[39m\u001b[32mIn[206]\u001b[39m\u001b[32m, line 8\u001b[39m\n\u001b[32m      1\u001b[39m model_sel_S2S.compile(optimizer=\u001b[33m'\u001b[39m\u001b[33madam\u001b[39m\u001b[33m'\u001b[39m, loss=\u001b[33m'\u001b[39m\u001b[33mmse\u001b[39m\u001b[33m'\u001b[39m, metrics=[\u001b[33m'\u001b[39m\u001b[33mmae\u001b[39m\u001b[33m'\u001b[39m])\n\u001b[32m      3\u001b[39m check_point = ModelCheckpoint(\n\u001b[32m      4\u001b[39m     MODEL_DIR + \u001b[33m'\u001b[39m\u001b[33m/model_sel_S2S_best.keras\u001b[39m\u001b[33m'\u001b[39m,\n\u001b[32m      5\u001b[39m     monitor=\u001b[33m'\u001b[39m\u001b[33mval_loss\u001b[39m\u001b[33m'\u001b[39m,\n\u001b[32m      6\u001b[39m     save_best_only=\u001b[38;5;28;01mTrue\u001b[39;00m\n\u001b[32m      7\u001b[39m )\n\u001b[32m----> \u001b[39m\u001b[32m8\u001b[39m \u001b[43mmodel_sel_S2S\u001b[49m\u001b[43m.\u001b[49m\u001b[43mfit\u001b[49m\u001b[43m(\u001b[49m\n\u001b[32m      9\u001b[39m \u001b[43m    \u001b[49m\u001b[43m[\u001b[49m\u001b[43mX_train\u001b[49m\u001b[43m,\u001b[49m\u001b[43m \u001b[49m\u001b[43mdecoder_input\u001b[49m\u001b[43m]\u001b[49m\u001b[43m,\u001b[49m\u001b[43m \u001b[49m\n\u001b[32m     10\u001b[39m \u001b[43m    \u001b[49m\u001b[43my_train\u001b[49m\u001b[43m,\u001b[49m\n\u001b[32m     11\u001b[39m \u001b[43m    \u001b[49m\u001b[43mepochs\u001b[49m\u001b[43m=\u001b[49m\u001b[32;43m100\u001b[39;49m\u001b[43m,\u001b[49m\n\u001b[32m     12\u001b[39m \u001b[43m    \u001b[49m\u001b[43mbatch_size\u001b[49m\u001b[43m=\u001b[49m\u001b[32;43m32\u001b[39;49m\u001b[43m,\u001b[49m\n\u001b[32m     13\u001b[39m \u001b[43m    \u001b[49m\u001b[43mvalidation_split\u001b[49m\u001b[43m=\u001b[49m\u001b[32;43m0.2\u001b[39;49m\u001b[43m,\u001b[49m\n\u001b[32m     14\u001b[39m \u001b[43m    \u001b[49m\u001b[43mcallbacks\u001b[49m\u001b[43m \u001b[49m\u001b[43m=\u001b[49m\u001b[43m \u001b[49m\u001b[43m[\u001b[49m\u001b[43mearly_stop\u001b[49m\u001b[43m,\u001b[49m\u001b[43m \u001b[49m\u001b[43mcheck_point\u001b[49m\u001b[43m]\u001b[49m\u001b[43m,\u001b[49m\n\u001b[32m     15\u001b[39m \u001b[43m    \u001b[49m\u001b[43mshuffle\u001b[49m\u001b[43m=\u001b[49m\u001b[38;5;28;43;01mFalse\u001b[39;49;00m\n\u001b[32m     16\u001b[39m \u001b[43m)\u001b[49m\n",
      "\u001b[36mFile \u001b[39m\u001b[32m~/DeepL/deeplenv/lib/python3.11/site-packages/keras/src/utils/traceback_utils.py:122\u001b[39m, in \u001b[36mfilter_traceback.<locals>.error_handler\u001b[39m\u001b[34m(*args, **kwargs)\u001b[39m\n\u001b[32m    119\u001b[39m     filtered_tb = _process_traceback_frames(e.__traceback__)\n\u001b[32m    120\u001b[39m     \u001b[38;5;66;03m# To get the full stack trace, call:\u001b[39;00m\n\u001b[32m    121\u001b[39m     \u001b[38;5;66;03m# `keras.config.disable_traceback_filtering()`\u001b[39;00m\n\u001b[32m--> \u001b[39m\u001b[32m122\u001b[39m     \u001b[38;5;28;01mraise\u001b[39;00m e.with_traceback(filtered_tb) \u001b[38;5;28;01mfrom\u001b[39;00m\u001b[38;5;250m \u001b[39m\u001b[38;5;28;01mNone\u001b[39;00m\n\u001b[32m    123\u001b[39m \u001b[38;5;28;01mfinally\u001b[39;00m:\n\u001b[32m    124\u001b[39m     \u001b[38;5;28;01mdel\u001b[39;00m filtered_tb\n",
      "\u001b[36mFile \u001b[39m\u001b[32m~/DeepL/deeplenv/lib/python3.11/site-packages/keras/src/trainers/data_adapters/data_adapter_utils.py:115\u001b[39m, in \u001b[36mcheck_data_cardinality\u001b[39m\u001b[34m(data)\u001b[39m\n\u001b[32m    111\u001b[39m     sizes = \u001b[33m\"\u001b[39m\u001b[33m, \u001b[39m\u001b[33m\"\u001b[39m.join(\n\u001b[32m    112\u001b[39m         \u001b[38;5;28mstr\u001b[39m(i.shape[\u001b[32m0\u001b[39m]) \u001b[38;5;28;01mfor\u001b[39;00m i \u001b[38;5;129;01min\u001b[39;00m tree.flatten(single_data)\n\u001b[32m    113\u001b[39m     )\n\u001b[32m    114\u001b[39m     msg += \u001b[33mf\u001b[39m\u001b[33m\"\u001b[39m\u001b[33m'\u001b[39m\u001b[38;5;132;01m{\u001b[39;00mlabel\u001b[38;5;132;01m}\u001b[39;00m\u001b[33m'\u001b[39m\u001b[33m sizes: \u001b[39m\u001b[38;5;132;01m{\u001b[39;00msizes\u001b[38;5;132;01m}\u001b[39;00m\u001b[38;5;130;01m\\n\u001b[39;00m\u001b[33m\"\u001b[39m\n\u001b[32m--> \u001b[39m\u001b[32m115\u001b[39m \u001b[38;5;28;01mraise\u001b[39;00m \u001b[38;5;167;01mValueError\u001b[39;00m(msg)\n",
      "\u001b[31mValueError\u001b[39m: Data cardinality is ambiguous. Make sure all arrays contain the same number of samples.'x' sizes: 13863, 1969\n'y' sizes: 13863\n"
     ]
    }
   ],
   "source": [
    "model_sel_S2S.compile(optimizer='adam', loss='mse', metrics=['mae'])\n",
    "\n",
    "check_point = ModelCheckpoint(\n",
    "    MODEL_DIR + '/model_sel_S2S_best.keras',\n",
    "    monitor='val_loss',\n",
    "    save_best_only=True\n",
    ")\n",
    "model_sel_S2S.fit(\n",
    "    [X_model_sel, decoder_input], \n",
    "    y_model_sel,\n",
    "    epochs=100,\n",
    "    batch_size=32,\n",
    "    validation_split=0.2,\n",
    "    callbacks = [early_stop, check_point],\n",
    "    shuffle=False\n",
    ")"
   ]
  },
  {
   "cell_type": "markdown",
   "id": "65f62c46",
   "metadata": {},
   "source": [
    "## 3. Model Train\n",
    "### Hyperparameter Tuning\n",
    "Tune hyperparameters on `hparam_tuning` subset with `validation_split = 0.2`. \n",
    "\n",
    "Hyperparameters to be tuned:\n",
    " - `learning_rate`\n",
    " - `num_layers`\n",
    " - `hidden_size`\n",
    " - `dropout`\n",
    " - `etc`\n",
    "\n",
    "Save logs in `log/hparam`\n",
    "\n",
    "### Train Tuned Model\n",
    "Train model on `train` subset with `validation_split = 0.2`. \n",
    "\n",
    "### Save Model\n",
    "Save model in `model`. "
   ]
  },
  {
   "cell_type": "code",
   "execution_count": null,
   "id": "c69f9a2e",
   "metadata": {},
   "outputs": [],
   "source": [
    "### Hyperparameter Tuning\n",
    "# delete hyperparameter tuning logs\n",
    "%rm -rf ./logs/hparam_tuning/"
   ]
  },
  {
   "cell_type": "code",
   "execution_count": null,
   "id": "21e3e5ab",
   "metadata": {},
   "outputs": [],
   "source": [
    "# Tuning hyperparameters \n",
    "# learning rate [0.0001, 0.001]\n",
    "# dropout [0.4, 0.5]\n",
    "# optimizer ['adam', 'rmsprop', 'SGD']\n",
    "# batch size [64, 128, 256]\n",
    "\n",
    "# map optimizer str and class obj in a dict\n",
    "OPTIMIZER_MAP = {\n",
    "    'adam': Adam,\n",
    "    'rmsprop': RMSprop,\n",
    "    'SGD': SGD\n",
    "}\n",
    "\n",
    "HP_LR = hp.HParam('learning_rate', hp.Discrete([0.0001, 0.001]))\n",
    "HP_DROPOUT = hp.HParam('dropout', hp.Discrete([0.4, 0.5]))\n",
    "HP_OPTIMIZER = hp.HParam('optimizer', hp.Discrete(['adam', 'rmsprop', 'SGD']))\n",
    "HP_BATCH_SIZE = hp.HParam('batch_size', hp.Discrete([64, 128, 256]))\n",
    "\n",
    "METRIC_ACCURACY = 'accuracy'\n",
    "\n",
    "# initiate tfboard log\n",
    "with tf.summary.create_file_writer('logs/hparam_tuning').as_default():\n",
    "    hp.hparams_config(\n",
    "        hparams=[HP_LR, HP_DROPOUT, HP_OPTIMIZER, HP_BATCH_SIZE],\n",
    "        metrics=[hp.Metric(METRIC_ACCURACY, display_name='Accuracy')],\n",
    "    )"
   ]
  },
  {
   "cell_type": "code",
   "execution_count": 121,
   "id": "1796d8ec",
   "metadata": {},
   "outputs": [],
   "source": [
    "### Train Tuned Model\n"
   ]
  },
  {
   "cell_type": "code",
   "execution_count": 122,
   "id": "a17dea9b",
   "metadata": {},
   "outputs": [],
   "source": [
    "### Save Model\n"
   ]
  },
  {
   "cell_type": "markdown",
   "id": "b8c463a3",
   "metadata": {},
   "source": [
    "## 4. Model Evaluation\n",
    "\n",
    "### Evaluate Model\n",
    "Use `test` subset to evaluate model with metrics $\\mathrm{RMSE}$ and $\\mathrm{MAE}$. \n",
    "\n",
    "### Visualization\n",
    "Plots to be visualized\n",
    " - Actual vs Predicted \n",
    " - Loss over Epochs\n",
    "\n",
    "### Analyze Model Performance\n"
   ]
  },
  {
   "cell_type": "code",
   "execution_count": 123,
   "id": "1b044cb3",
   "metadata": {},
   "outputs": [],
   "source": [
    "### Evaluate Model"
   ]
  },
  {
   "cell_type": "code",
   "execution_count": 124,
   "id": "391c2926",
   "metadata": {},
   "outputs": [],
   "source": [
    "### Visualization"
   ]
  },
  {
   "cell_type": "code",
   "execution_count": 125,
   "id": "569b9a67",
   "metadata": {},
   "outputs": [],
   "source": [
    "### Analyze Model Performance\n"
   ]
  },
  {
   "cell_type": "markdown",
   "id": "15c1159a",
   "metadata": {},
   "source": [
    "## 5. Forecaste to Energy Optimization\n",
    "\n",
    "### Use `test1` and `test2` subset, take one day/week ahead, predict the `global_active_power` of the subset. \n",
    "\n",
    "### Merics\n",
    "RMSE, MAE\n",
    "\n",
    "### Visualize Result\n",
    "Predicted vs Actual\n"
   ]
  }
 ],
 "metadata": {
  "kernelspec": {
   "display_name": "deeplenv",
   "language": "python",
   "name": "python3"
  },
  "language_info": {
   "codemirror_mode": {
    "name": "ipython",
    "version": 3
   },
   "file_extension": ".py",
   "mimetype": "text/x-python",
   "name": "python",
   "nbconvert_exporter": "python",
   "pygments_lexer": "ipython3",
   "version": "3.11.7"
  }
 },
 "nbformat": 4,
 "nbformat_minor": 5
}
